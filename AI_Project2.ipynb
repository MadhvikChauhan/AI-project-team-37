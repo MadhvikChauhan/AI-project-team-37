{
 "cells": [
  {
   "cell_type": "code",
   "execution_count": null,
   "metadata": {
    "colab": {
     "base_uri": "https://localhost:8080/"
    },
    "id": "gNTNVhxc-Kk8",
    "outputId": "8d329e37-1872-41d1-e566-0955fa09968f"
   },
   "outputs": [],
   "source": [
    "#Import packages\n",
    "import nltk\n",
    "nltk.download('punkt')\n",
    "from gensim.models.doc2vec import Doc2Vec, TaggedDocument\n",
    "from nltk.tokenize import word_tokenize\n",
    " \n",
    "## Exapmple document (list of sentences)\n",
    "doc = [\"I love data science\",\n",
    "        \"I love coding in python\",\n",
    "        \"I love building NLP tool\",\n",
    "        \"This is a good phone\",\n",
    "        \"This is a good TV\",\n",
    "        \"This is a good laptop\",\n",
    "        \"Prime Time at 2100 hrs\"]\n",
    " \n",
    "# Tokenization of each document\n",
    "tokenized_doc = []\n",
    "for d in doc:\n",
    "    tokenized_doc.append(word_tokenize(d.lower()))\n",
    "tokenized_doc"
   ]
  },
  {
   "cell_type": "code",
   "execution_count": null,
   "metadata": {
    "colab": {
     "base_uri": "https://localhost:8080/"
    },
    "id": "2Q86wXe8-o4d",
    "outputId": "93847185-8f10-44dd-a795-8e9ea6c00058"
   },
   "outputs": [
    {
     "data": {
      "text/plain": [
       "[TaggedDocument(words=['i', 'love', 'data', 'science'], tags=[0]),\n",
       " TaggedDocument(words=['i', 'love', 'coding', 'in', 'python'], tags=[1]),\n",
       " TaggedDocument(words=['i', 'love', 'building', 'nlp', 'tool'], tags=[2]),\n",
       " TaggedDocument(words=['this', 'is', 'a', 'good', 'phone'], tags=[3]),\n",
       " TaggedDocument(words=['this', 'is', 'a', 'good', 'tv'], tags=[4]),\n",
       " TaggedDocument(words=['this', 'is', 'a', 'good', 'laptop'], tags=[5]),\n",
       " TaggedDocument(words=['prime', 'time', 'at', '2100', 'hrs'], tags=[6])]"
      ]
     },
     "execution_count": 2,
     "metadata": {
      "tags": []
     },
     "output_type": "execute_result"
    }
   ],
   "source": [
    "# Convert tokenized document into gensim formated tagged data\n",
    "tagged_data = [TaggedDocument(d, [i]) for i, d in enumerate(tokenized_doc)]\n",
    "tagged_data"
   ]
  },
  {
   "cell_type": "code",
   "execution_count": null,
   "metadata": {
    "colab": {
     "base_uri": "https://localhost:8080/"
    },
    "id": "mt-rdE7v-rLd",
    "outputId": "f22703b6-a646-4aa5-c87a-82dbcadbbf49"
   },
   "outputs": [
    {
     "name": "stdout",
     "output_type": "stream",
     "text": [
      "[ 0.03461923  0.02498477 -0.01505227 -0.00987292 -0.01425593 -0.01742802\n",
      " -0.01326849 -0.00399531 -0.024897   -0.03870251]\n",
      "[ 0.01561139  0.05005806 -0.02129694  0.02876782 -0.03616319 -0.01203211\n",
      "  0.04623436 -0.01808566  0.06679626  0.05513792]\n",
      "[0.01786116 0.05214529 0.04614748 0.04899181 0.02910311 0.03307261\n",
      " 0.04870301 0.04483304 0.06546737 0.00983767]\n",
      "[ 0.01569331  0.01521796  0.04727491  0.02471128  0.01967866  0.03076896\n",
      " -0.02767502 -0.01296774 -0.00188949  0.01238459]\n",
      "[ 0.0510689  -0.04703394 -0.01361027 -0.03239051  0.04127287 -0.00839601\n",
      "  0.00915461 -0.03870804 -0.00895797  0.05424011]\n",
      "[-0.01986056 -0.00646526  0.02090529 -0.03728261 -0.01595599 -0.01065027\n",
      "  0.04326307  0.01230547  0.04120005  0.01416616]\n"
     ]
    },
    {
     "data": {
      "text/plain": [
       "{'2100': <gensim.models.keyedvectors.Vocab at 0x7f63691fed10>,\n",
       " 'a': <gensim.models.keyedvectors.Vocab at 0x7f63691f7c50>,\n",
       " 'at': <gensim.models.keyedvectors.Vocab at 0x7f6369259790>,\n",
       " 'building': <gensim.models.keyedvectors.Vocab at 0x7f63691f7a50>,\n",
       " 'coding': <gensim.models.keyedvectors.Vocab at 0x7f63691f75d0>,\n",
       " 'data': <gensim.models.keyedvectors.Vocab at 0x7f63691f73d0>,\n",
       " 'good': <gensim.models.keyedvectors.Vocab at 0x7f63691f7e50>,\n",
       " 'hrs': <gensim.models.keyedvectors.Vocab at 0x7f63691fed90>,\n",
       " 'i': <gensim.models.keyedvectors.Vocab at 0x7f63691f7dd0>,\n",
       " 'in': <gensim.models.keyedvectors.Vocab at 0x7f63691f7e90>,\n",
       " 'is': <gensim.models.keyedvectors.Vocab at 0x7f63691f7f50>,\n",
       " 'laptop': <gensim.models.keyedvectors.Vocab at 0x7f6369259e50>,\n",
       " 'love': <gensim.models.keyedvectors.Vocab at 0x7f63691f7490>,\n",
       " 'nlp': <gensim.models.keyedvectors.Vocab at 0x7f63691f7b90>,\n",
       " 'phone': <gensim.models.keyedvectors.Vocab at 0x7f63691f7c90>,\n",
       " 'prime': <gensim.models.keyedvectors.Vocab at 0x7f6369259e10>,\n",
       " 'python': <gensim.models.keyedvectors.Vocab at 0x7f63691f7cd0>,\n",
       " 'science': <gensim.models.keyedvectors.Vocab at 0x7f63691f7890>,\n",
       " 'this': <gensim.models.keyedvectors.Vocab at 0x7f63691f74d0>,\n",
       " 'time': <gensim.models.keyedvectors.Vocab at 0x7f6369259d90>,\n",
       " 'tool': <gensim.models.keyedvectors.Vocab at 0x7f63691f78d0>,\n",
       " 'tv': <gensim.models.keyedvectors.Vocab at 0x7f63691f7f90>}"
      ]
     },
     "execution_count": 6,
     "metadata": {
      "tags": []
     },
     "output_type": "execute_result"
    }
   ],
   "source": [
    "## Train doc2vec model\n",
    "model = Doc2Vec(tagged_data, vector_size=10, window=2, min_count=1, workers=4, epochs = 100)\n",
    "# Save trained doc2vec model\n",
    "model.save(\"test_doc2vec.model\")\n",
    "## Load saved doc2vec model\n",
    "model= Doc2Vec.load(\"test_doc2vec.model\")\n",
    "## Print model vocabulary\n",
    "for i in range(6):\n",
    "  print(model.docvecs[i])\n",
    "model.wv.vocab"
   ]
  },
  {
   "cell_type": "code",
   "execution_count": null,
   "metadata": {
    "colab": {
     "base_uri": "https://localhost:8080/"
    },
    "id": "kdDEjpxV-vZ3",
    "outputId": "8798481d-b502-4082-f2e3-e17bb05a367b"
   },
   "outputs": [
    {
     "name": "stdout",
     "output_type": "stream",
     "text": [
      "['i', 'went', 'to', 'vimal', \"'s\", 'house', 'at', 'prime', 'time']\n"
     ]
    },
    {
     "data": {
      "text/plain": [
       "[(3, 0.6385354995727539),\n",
       " (2, 0.15462112426757812),\n",
       " (1, 0.03652378171682358),\n",
       " (0, 0.03454216569662094),\n",
       " (6, 0.0035666972398757935),\n",
       " (4, -0.04826559126377106)]"
      ]
     },
     "execution_count": 5,
     "metadata": {
      "tags": []
     },
     "output_type": "execute_result"
    }
   ],
   "source": [
    "# find most similar doc \n",
    "test_doc = word_tokenize(\"This is a good place\".lower())\n",
    "print(test_doc)\n",
    "model.docvecs.most_similar(positive=[model.infer_vector(test_doc)],topn=6)"
   ]
  },
  {
   "cell_type": "code",
   "execution_count": null,
   "metadata": {
    "id": "1hNvzIvHWhCH"
   },
   "outputs": [],
   "source": []
  }
 ],
 "metadata": {
  "colab": {
   "collapsed_sections": [],
   "name": "AI_Project.ipynb",
   "provenance": []
  },
  "kernelspec": {
   "display_name": "Python 3",
   "language": "python",
   "name": "python3"
  },
  "language_info": {
   "codemirror_mode": {
    "name": "ipython",
    "version": 3
   },
   "file_extension": ".py",
   "mimetype": "text/x-python",
   "name": "python",
   "nbconvert_exporter": "python",
   "pygments_lexer": "ipython3",
   "version": "3.7.4"
  }
 },
 "nbformat": 4,
 "nbformat_minor": 1
}
